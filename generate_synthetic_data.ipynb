{
 "cells": [
  {
   "cell_type": "code",
   "execution_count": 1,
   "metadata": {},
   "outputs": [],
   "source": [
    "### START of Spark initial setup ###\n",
    "\n",
    "# NOTE: Set up and initialize Spark session here. The rest of the code assumes that pyspark is accessible.\n",
    "\n",
    "### END of Spark initial setup ###"
   ]
  },
  {
   "cell_type": "code",
   "execution_count": 2,
   "metadata": {},
   "outputs": [],
   "source": [
    "import numpy as np\n",
    "import pandas as pd\n",
    "from numpy import random\n",
    "\n",
    "from pyspark.sql.types import ArrayType, IntegerType, StringType, DoubleType\n",
    "\n",
    "import datagen\n",
    "from datagen import * \n",
    "import importlib\n",
    "importlib.reload(datagen)\n",
    "\n",
    "import pdb\n",
    "\n",
    "import warnings\n",
    "warnings.filterwarnings('ignore')"
   ]
  },
  {
   "cell_type": "markdown",
   "metadata": {},
   "source": [
    "# Generating a sythetic table of impressions\n",
    "The following steps show how to generate a synthetic impression table which can be used by the virtual ID assignment algorithm. This is based on a census file that is provided in the repository as `census.csv`.\n",
    "\n",
    "The process starts with generating a list of people based on a power-law distribution of rates. Here we have used the Lomax (or the Pareto type II) distribution\n",
    "$$\n",
    "    L(x) = \\frac{\\alpha}{m} \\left(1 + \\frac{x}{m}\\right)^{-(\\alpha + 1)}\n",
    "$$\n",
    "We continue making the table `df_people_n` by assigning a randomly chosen number of impressions per person based on the rate generated in the previous step and then we finaly create `df_impressions` table by assigning random timestamps."
   ]
  },
  {
   "cell_type": "code",
   "execution_count": 3,
   "metadata": {},
   "outputs": [],
   "source": [
    "# Load the synthetic census file\n",
    "census = pd.read_csv(\"census.csv\")\n",
    "df_census = spark.createDataFrame(census)"
   ]
  },
  {
   "cell_type": "code",
   "execution_count": 4,
   "metadata": {},
   "outputs": [],
   "source": [
    "demo_cols = [\"gender\", \"ethnicity\", \"age_range\", \"education\", \"income_code\"]\n",
    "\n",
    "# Generate the people from the census. This also assigns a rate to each person.\n",
    "df_people = gen_people_table(df_census, demo_cols).cache()"
   ]
  },
  {
   "cell_type": "code",
   "execution_count": null,
   "metadata": {},
   "outputs": [],
   "source": [
    "population_total = df_census.agg(F.sum(\"population\")).collect()[0][0]\n",
    "\n",
    "# Add a number of impressions to each person based the approximate total number of impressions provided\n",
    "df_people_n = add_n_impressions(df_people, I=10**9, population_total=population_total)"
   ]
  },
  {
   "cell_type": "code",
   "execution_count": null,
   "metadata": {},
   "outputs": [],
   "source": [
    "df_people_n.show()"
   ]
  },
  {
   "cell_type": "code",
   "execution_count": null,
   "metadata": {},
   "outputs": [],
   "source": [
    "start_ts = \"2020-03-01 00:00:00\"\n",
    "end_ts   = \"2020-07-01 00:00:00\"\n",
    "\n",
    "# Now, create an impression table based on the given number of impression per person using a random\n",
    "# assignment of timestamp to each impression between `start_ts` and `end_ts`\n",
    "df_impressions = gen_synthetic_impressions(df_people_n, start_ts, end_ts, demo_cols)"
   ]
  },
  {
   "cell_type": "code",
   "execution_count": null,
   "metadata": {},
   "outputs": [],
   "source": [
    "df_impressions.show()"
   ]
  }
 ],
 "metadata": {
  "kernelspec": {
   "display_name": "Python 3",
   "language": "python",
   "name": "python3"
  },
  "language_info": {
   "codemirror_mode": {
    "name": "ipython",
    "version": 3
   },
   "file_extension": ".py",
   "mimetype": "text/x-python",
   "name": "python",
   "nbconvert_exporter": "python",
   "pygments_lexer": "ipython3",
   "version": "3.6.10"
  }
 },
 "nbformat": 4,
 "nbformat_minor": 4
}
